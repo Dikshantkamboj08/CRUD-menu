{
 "cells": [
  {
   "cell_type": "code",
   "execution_count": 1,
   "id": "1c25079f",
   "metadata": {},
   "outputs": [
    {
     "name": "stdout",
     "output_type": "stream",
     "text": [
      "Hello Guys,We are going to build an CRUD menu using mysql.connector.connect\n"
     ]
    }
   ],
   "source": [
    "print(\"Hello Guys,We are going to build an CRUD menu using mysql.connector.connect\")"
   ]
  },
  {
   "cell_type": "markdown",
   "id": "821f3d08",
   "metadata": {},
   "source": [
    "## Loading  password from env file"
   ]
  },
  {
   "cell_type": "code",
   "execution_count": 2,
   "id": "8f1c2d91",
   "metadata": {},
   "outputs": [
    {
     "data": {
      "text/plain": [
       "True"
      ]
     },
     "execution_count": 2,
     "metadata": {},
     "output_type": "execute_result"
    }
   ],
   "source": [
    "from dotenv import load_dotenv\n",
    "import os \n",
    "\n",
    "load_dotenv(dotenv_path=\".env\")\n",
    "\n"
   ]
  },
  {
   "cell_type": "markdown",
   "id": "3499a4a6",
   "metadata": {},
   "source": [
    "#### importing library to connect with MySQL"
   ]
  },
  {
   "cell_type": "code",
   "execution_count": 3,
   "id": "af22b6c6",
   "metadata": {},
   "outputs": [],
   "source": [
    "import mysql.connector"
   ]
  },
  {
   "cell_type": "markdown",
   "id": "fa823879",
   "metadata": {},
   "source": [
    "#### code to get inputs"
   ]
  },
  {
   "cell_type": "code",
   "execution_count": 4,
   "id": "5c065615",
   "metadata": {},
   "outputs": [],
   "source": [
    "from datetime import datetime\n",
    "\n",
    "\n",
    "#To get input and return it in  integer type\n",
    "def get_int_input(prompt):\n",
    "    while True:\n",
    "        try:\n",
    "            return int(input(prompt))\n",
    "        except ValueError:\n",
    "            print(\"Please enter valid value\")\n",
    "            \n",
    " #To get input of string type  (simple as all methods are getting it in string format)    \n",
    "def get_str_input(prompt):\n",
    "    value = input(prompt).strip()\n",
    "    return value\n",
    "\n",
    "#To get input and return it in  float type\n",
    "def get_float_input(prompt):\n",
    "     while True:\n",
    "        try:\n",
    "            return float(input(promt))\n",
    "        except ValueError:\n",
    "            print(\"Please enter valid value\")\n",
    "            \n",
    "#To get input and return it in date type\n",
    "def get_date_input(prompt):\n",
    "    while True:\n",
    "        try:\n",
    "            date_str = input(prompt)\n",
    "            date_obj = datetime.strtime(date_str,\"%Y-%m-%d\").date()\n",
    "            return date_obj\n",
    "        except ValueError:\n",
    "            print(\"Please enter valid Date format (YYYY-MM-DD):\")\n"
   ]
  },
  {
   "cell_type": "markdown",
   "id": "64b73a45",
   "metadata": {},
   "source": [
    "## Connecting to MySQL server "
   ]
  },
  {
   "cell_type": "code",
   "execution_count": 5,
   "id": "de53da61",
   "metadata": {},
   "outputs": [],
   "source": [
    "def connect_db():\n",
    "    return mysql.connector.connect(\n",
    "    host=\"localhost\",\n",
    "    user=\"root\",\n",
    "    password = os.getenv(\"MYSQL_PASSWORD\"),\n",
    "    database = \"ecommerce\"\n",
    "    )"
   ]
  },
  {
   "cell_type": "markdown",
   "id": "4fe18c9a",
   "metadata": {},
   "source": [
    "## ==========  CRUD Functions for each table  ===========\n"
   ]
  },
  {
   "cell_type": "markdown",
   "id": "9269f946",
   "metadata": {},
   "source": [
    "=========================== For ecom_customer ========================="
   ]
  },
  {
   "cell_type": "code",
   "execution_count": 6,
   "id": "26756475",
   "metadata": {},
   "outputs": [],
   "source": [
    "def insert_customer(cursor):\n",
    "    customer_id = get_int_input(\"Customer_ID :\")\n",
    "    name = get_str_input(\"Name :\")\n",
    "    email = get_str_input(\"Email :\")\n",
    "    city = get_str_input(\"City :\")\n",
    "    cursor.execute(\"Insert into ecom_customer Values(%s,%s,%s,%s)\",(customer_id,name,email,city))\n",
    "    print(\"Customer added successfully\\n\")\n",
    "    \n",
    "    \n",
    "def read_customer(cursor):\n",
    "    cursor.execute(\"Select * from ecom_customer\")\n",
    "    for row in cursor.fetchall():\n",
    "        print(row)\n",
    "        \n",
    "def update_customer(cursor):\n",
    "    cid = get_int_input(\" Enter Customer_Id to be updated :\")\n",
    "    city = get_str_input(\"New city :\")\n",
    "    cursor.execute(\"Update ecom_customer SET city = %s WHERE customer_id = %s\",(cid,city))\n",
    "    print(\"Updated successfully\\n\")\n",
    "    \n",
    "def delete_customer(cursor):\n",
    "    cid = get_int_input(\"Enter Customer_id to be deleted :\")\n",
    "    cursor.execute(\"DELETE FROM ecom_customer WHERE customer_id = %s\",(cid))\n",
    "    print(\"Deleted Successfully\")"
   ]
  },
  {
   "cell_type": "markdown",
   "id": "0b8f39fc",
   "metadata": {},
   "source": [
    "====================== For table Products =================="
   ]
  },
  {
   "cell_type": "code",
   "execution_count": 7,
   "id": "7f619741",
   "metadata": {},
   "outputs": [],
   "source": [
    "def insert_products(cursor):\n",
    "    Product_id = get_int_input(\"Product_ID :\")\n",
    "    name = get_str_input(\"Product Name :\")\n",
    "    price = get_float_input(\"Price :\")\n",
    "    stock = get_int_input(\"Stock :\")\n",
    "    cursor.execute(\"Insert into products Values(%s,%s,%s,%s)\",(Product_id,name,price,stock))\n",
    "    print(\"Product added successfully\\n\")\n",
    "    \n",
    "    \n",
    "def read_products(cursor):\n",
    "    cursor.execute(\"Select * from products\")\n",
    "    for row in cursor.fetchall():\n",
    "        print(row)\n",
    "        \n",
    "def update_products(cursor):\n",
    "    pid = get_int_input(\" Enter Product_Id to be updated :\")\n",
    "    stock = get_str_input(\"New Stock :\")\n",
    "    cursor.execute(\"Update products SET stock = %s WHERE product_id = %s\",(pid,stock))\n",
    "    print(\"Updated successfully\\n\")\n",
    "    \n",
    "def delete_products(cursor):\n",
    "    pid = get_int_input(\"Enter product_id to be deleted :\")\n",
    "    cursor.execute(\"DELETE FROM products WHERE product_id = %s\",(pid))\n",
    "    print(\"Deleted Successfully\")"
   ]
  },
  {
   "cell_type": "markdown",
   "id": "a26a9aaa",
   "metadata": {},
   "source": [
    "===================== For ecom_orders ====================="
   ]
  },
  {
   "cell_type": "code",
   "execution_count": 8,
   "id": "b0700da2",
   "metadata": {},
   "outputs": [],
   "source": [
    "def insert_orders(cursor):\n",
    "    order_id = get_int_input(\"Order_id :\")\n",
    "    customer_id = get_int_input(\"Customer_ID :\")\n",
    "    order_date = get_date_input(\"Date of Order (YYYY-MM-DD) :\")\n",
    "    cursor.execute(\"Insert into ecom_orders Values(%s,%s,%s)\",(order_id,customer_id,order_date))\n",
    "    print(\"Customer added successfully\\n\")\n",
    "    \n",
    "    \n",
    "def read_orders(cursor):\n",
    "    cursor.execute(\"Select * from ecom_orders\")\n",
    "    for row in cursor.fetchall():\n",
    "        print(row)\n",
    "        \n",
    "def update_orders(cursor):\n",
    "    oid = get_int_input(\" Enter Order_id to be updated :\")\n",
    "    date = get_date_input(\"New Date(YYYY-MM-DD) \")\n",
    "    cursor.execute(\"Update ecom_orders SET date = %s WHERE order_id = %s\",(oid,date))\n",
    "    print(\"Updated successfully\\n\")\n",
    "    \n",
    "def delete_orders(cursor):\n",
    "    oid = get_int_input(\"Enter order_id to be delted :\")\n",
    "    cursor.execute(\"DELETE FROM ecom_orders WHERE order_id = %s\",(oid))\n",
    "    print(\"Deleted Successfully\")"
   ]
  },
  {
   "cell_type": "markdown",
   "id": "7bf98d0a",
   "metadata": {},
   "source": [
    "===================== For table order_items ============================"
   ]
  },
  {
   "cell_type": "code",
   "execution_count": 9,
   "id": "cd3488d9",
   "metadata": {},
   "outputs": [],
   "source": [
    "def insert_order_items(cursor):\n",
    "    o_item_id = get_int_input(\"Order_item_id :\")\n",
    "    oid = get_int_input(\"Order_id :\")\n",
    "    pid = get_int_input(\"Product_id :\")\n",
    "    quantity = get_int_input(\"Quantity:\")\n",
    "    cursor.execute(\"Insert into order_items Values(%s,%s,%s,%s)\",(o_item_id,oid,pid,quantity))\n",
    "    print(\"Order Items added successfully\\n\")\n",
    "    \n",
    "    \n",
    "def read_order_items(cursor):\n",
    "    cursor.execute(\"Select * from order_items\")\n",
    "    for row in cursor.fetchall():\n",
    "        print(row)\n",
    "        \n",
    "def update_order_items(cursor):\n",
    "    otid = get_int_input(\" Enter order_item_id to be updated :\")\n",
    "    qty = get_int_input(\"New Quantity :\")\n",
    "    cursor.execute(\"Update order_items SET quantity = %s WHERE order_item_id = %s\",(otid,qty))\n",
    "    print(\"Updated successfully\\n\")\n",
    "    \n",
    "def delete_order_items(cursor):\n",
    "    otid = get_int_input(\"Enter order_item_id to be deleted :\")\n",
    "    cursor.execute(\"DELETE FROM order_items WHERE order_item_id = %s\",(otid))\n",
    "    print(\"Deleted Successfully\")"
   ]
  },
  {
   "cell_type": "markdown",
   "id": "0e0bfa49",
   "metadata": {},
   "source": [
    "### Table Menu System for insert, read, update and delete "
   ]
  },
  {
   "cell_type": "markdown",
   "id": "c37e3930",
   "metadata": {},
   "source": [
    "----------------- Menu System -----------------------"
   ]
  },
  {
   "cell_type": "code",
   "execution_count": 10,
   "id": "fb573dbe",
   "metadata": {},
   "outputs": [],
   "source": [
    "def table_menu(cursor, conn, table_name):\n",
    "    while True:\n",
    "        print(f\"\\n\\n {table_name.upper()} Table Operations\")\n",
    "        print(\"1. Insert\")\n",
    "        print(\"2. Read\")\n",
    "        print(\"3. Update\")\n",
    "        print(\"4. Delete\")\n",
    "        print(\"5. Back to Main Menu\")\n",
    "        choice = get_int_input(\"Enter operation to be done: \\n\")\n",
    "\n",
    "        try:\n",
    "            if choice == 1:\n",
    "                if table_name == \"ecom_customer\":\n",
    "                    insert_customer(cursor)\n",
    "                elif table_name == \"products\":\n",
    "                    insert_products(cursor)\n",
    "                elif table_name == \"ecom_orders\":\n",
    "                    insert_orders(cursor)\n",
    "                elif table_name == \"order_items\":\n",
    "                    insert_order_items(cursor)\n",
    "\n",
    "            elif choice == 2:\n",
    "                if table_name == \"ecom_customer\":\n",
    "                    read_customer(cursor)\n",
    "                elif table_name == \"products\":\n",
    "                    read_products(cursor)\n",
    "                elif table_name == \"ecom_orders\":\n",
    "                    read_orders(cursor)\n",
    "                elif table_name == \"order_items\":\n",
    "                    read_order_items(cursor)\n",
    "\n",
    "            elif choice == 3:\n",
    "                if table_name == \"ecom_customer\":\n",
    "                    update_customer(cursor)\n",
    "                elif table_name == \"products\":\n",
    "                    update_products(cursor)\n",
    "                elif table_name == \"ecom_orders\":\n",
    "                    update_orders(cursor)\n",
    "                elif table_name == \"order_items\":\n",
    "                    update_order_items(cursor)\n",
    "\n",
    "            elif choice == 4:\n",
    "                if table_name == \"ecom_customer\":\n",
    "                    delete_customer(cursor)\n",
    "                elif table_name == \"products\":\n",
    "                    delete_products(cursor)\n",
    "                elif table_name == \"ecom_orders\":\n",
    "                    delete_orders(cursor)\n",
    "                elif table_name == \"order_items\":\n",
    "                    delete_order_items(cursor)\n",
    "\n",
    "            elif choice == 5:\n",
    "                print(\" Returning to main menu...\")\n",
    "                break\n",
    "\n",
    "            else:\n",
    "                print(\" Invalid choice! Please enter a number between 1 and 5.\")\n",
    "\n",
    "            conn.commit()\n",
    "\n",
    "        except mysql.connector.Error as err:\n",
    "            print(\" Error:\", err)\n",
    "            conn.rollback()\n"
   ]
  },
  {
   "cell_type": "markdown",
   "id": "57adcdf4",
   "metadata": {},
   "source": [
    "------------------- Main program ---------------------"
   ]
  },
  {
   "cell_type": "code",
   "execution_count": null,
   "id": "d4eb7b49",
   "metadata": {},
   "outputs": [
    {
     "name": "stdout",
     "output_type": "stream",
     "text": [
      "\n",
      " ----Main Menu-----\n",
      "\n",
      "1. ecom_customers\n",
      "2. products\n",
      "3. ecom_orders\n",
      "4. order_items\n",
      "5. Exit\n",
      "Select Table \n",
      "2\n",
      "\n",
      "\n",
      " PRODUCTS Table Operations\n",
      "1. Insert\n",
      "2. Read\n",
      "3. Update\n",
      "4. Delete\n",
      "5. Back to Main Menu\n",
      "Enter operation to be done: \n",
      "2\n",
      "(201, 'Bluetooth Speaker', Decimal('1499.99'), 50)\n",
      "(202, 'wireless mouse', Decimal('799.99'), 100)\n",
      "(203, 'Gaming Keyboard', Decimal('2999.99'), 40)\n",
      "(204, 'USB-C Charger', Decimal('899.50'), 150)\n",
      "(205, 'HD Webcam', Decimal('2499.00'), 35)\n",
      "(206, 'Noise Cancelling Headphones', Decimal('5499.75'), 20)\n",
      "\n",
      "\n",
      " PRODUCTS Table Operations\n",
      "1. Insert\n",
      "2. Read\n",
      "3. Update\n",
      "4. Delete\n",
      "5. Back to Main Menu\n",
      "Enter operation to be done: \n",
      "5\n",
      " Returning to main menu...\n",
      "Existed successfully\n",
      "\n",
      " ----Main Menu-----\n",
      "\n",
      "1. ecom_customers\n",
      "2. products\n",
      "3. ecom_orders\n",
      "4. order_items\n",
      "5. Exit\n"
     ]
    }
   ],
   "source": [
    "def main():\n",
    "    try:\n",
    "        conn = connect_db()\n",
    "        cursor = conn.cursor()\n",
    "        \n",
    "        \n",
    "        while True:\n",
    "            print(\"\\n ----Main Menu-----\\n\")\n",
    "            print(\"1. ecom_customers\")\n",
    "            print(\"2. products\")\n",
    "            print(\"3. ecom_orders\")\n",
    "            print(\"4. order_items\")\n",
    "            print(\"5. Exit\")\n",
    "            main_choice = get_int_input(\"Select Table \\n\")\n",
    "            \n",
    "            if main_choice == 1:\n",
    "                table_menu(cursor, conn, \"ecom_customer\")\n",
    "            elif main_choice == 2:\n",
    "                table_menu(cursor, conn, \"products\")\n",
    "            elif main_choice == 3:\n",
    "                table_menu(cursor, conn, \"ecom_orders\")\n",
    "            elif main_choice == 4:\n",
    "                table_menu(cursor, conn, \"order_items\")\n",
    "            elif main_choice == 5:\n",
    "                break\n",
    "            else:\n",
    "                print(\" Invalid option!\")\n",
    "                \n",
    "            cursor.close()\n",
    "            conn.close()\n",
    "            print(\"Existed successfully\")\n",
    "    \n",
    "    except mysql.connector.Error as err:\n",
    "        print(\"Error\",err)\n",
    "            \n",
    "main()   \n",
    "            "
   ]
  },
  {
   "cell_type": "code",
   "execution_count": null,
   "id": "d55d7f7b",
   "metadata": {},
   "outputs": [],
   "source": []
  }
 ],
 "metadata": {
  "kernelspec": {
   "display_name": "Python 3.12",
   "language": "python",
   "name": "python312"
  },
  "language_info": {
   "codemirror_mode": {
    "name": "ipython",
    "version": 3
   },
   "file_extension": ".py",
   "mimetype": "text/x-python",
   "name": "python",
   "nbconvert_exporter": "python",
   "pygments_lexer": "ipython3",
   "version": "3.13.3"
  }
 },
 "nbformat": 4,
 "nbformat_minor": 5
}
