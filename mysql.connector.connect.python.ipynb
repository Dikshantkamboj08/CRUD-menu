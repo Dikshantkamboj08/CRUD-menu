{
 "cells": [
  {
   "cell_type": "code",
   "execution_count": 1,
   "id": "5b59b64d",
   "metadata": {},
   "outputs": [
    {
     "name": "stdout",
     "output_type": "stream",
     "text": [
      "3.13.3 (tags/v3.13.3:6280bb5, Apr  8 2025, 14:47:33) [MSC v.1943 64 bit (AMD64)]\n"
     ]
    }
   ],
   "source": [
    "import sys\n",
    "print(sys.version)"
   ]
  },
  {
   "cell_type": "markdown",
   "id": "47aa32f0",
   "metadata": {},
   "source": [
    "# importing MySQL connector"
   ]
  },
  {
   "cell_type": "code",
   "execution_count": 2,
   "id": "ccdd267d",
   "metadata": {},
   "outputs": [],
   "source": [
    "import mysql.connector;"
   ]
  },
  {
   "cell_type": "markdown",
   "id": "bfd4c9f2",
   "metadata": {},
   "source": [
    "# Connecting to MySQL server database ecommmerce having 4 tables "
   ]
  },
  {
   "cell_type": "code",
   "execution_count": 5,
   "id": "ccc8dd41",
   "metadata": {},
   "outputs": [
    {
     "name": "stdout",
     "output_type": "stream",
     "text": [
      "Connected successfully!\n"
     ]
    }
   ],
   "source": [
    "import mysql.connector\n",
    "\n",
    "try:\n",
    "    conn = mysql.connector.connect(\n",
    "        host=\"localhost\",\n",
    "        user=\"root\",\n",
    "        password=\"dk123456\",  # sahi password daalo\n",
    "        database=\"ecommerce\"\n",
    "    )\n",
    "    print(\"Connected successfully!\")\n",
    "    conn.close()\n",
    "except mysql.connector.Error as err:\n",
    "    print(\"Error:\", err)\n",
    "    cursor = conn.cursor()\n"
   ]
  },
  {
   "cell_type": "markdown",
   "id": "d7b3a60d",
   "metadata": {},
   "source": [
    "# Inserting into ecom_customer table 1"
   ]
  },
  {
   "cell_type": "code",
   "execution_count": 13,
   "id": "58391580",
   "metadata": {},
   "outputs": [
    {
     "name": "stdout",
     "output_type": "stream",
     "text": [
      "Error: 1062 (23000): Duplicate entry '101' for key 'ecom_customer.PRIMARY'\n"
     ]
    }
   ],
   "source": [
    "import mysql.connector\n",
    "\n",
    "try:\n",
    "    conn = mysql.connector.connect(\n",
    "        host=\"localhost\",\n",
    "        user=\"root\",\n",
    "        password=\"dk123456\",\n",
    "        database=\"ecommerce\"\n",
    "    )\n",
    "    cursor = conn.cursor()\n",
    "\n",
    "    query = \"INSERT INTO ecom_customer (customer_id, name, email, city) VALUES (%s, %s, %s, %s)\"\n",
    "    values = (101, \"Ravi Kumar\", \"ravi@example.com\", \"Delhi\")\n",
    "    cursor.execute(query, values)\n",
    "\n",
    "    conn.commit()\n",
    "    print(\" Customer added successfully!\")\n",
    "    conn.close()\n",
    "\n",
    "except mysql.connector.Error as err:\n",
    "    print(\"Error:\", err)\n"
   ]
  },
  {
   "cell_type": "markdown",
   "id": "82361acf",
   "metadata": {},
   "source": [
    "# Inserting multiple values into ecom_customer table 1"
   ]
  },
  {
   "cell_type": "code",
   "execution_count": 14,
   "id": "1d8ac74b",
   "metadata": {},
   "outputs": [
    {
     "name": "stdout",
     "output_type": "stream",
     "text": [
      "Error : 1062 (23000): Duplicate entry '1' for key 'ecom_customer.PRIMARY'\n"
     ]
    }
   ],
   "source": [
    "import mysql.connector;\n",
    "try:\n",
    "    \n",
    "    conn = mysql.connector.connect(\n",
    "        host=\"localhost\",\n",
    "        user=\"root\",\n",
    "        password=\"dk123456\",\n",
    "        database=\"ecommerce\"\n",
    "    )\n",
    "    cursor = conn.cursor()\n",
    "    query = \"INSERT INTO ecom_customer(customer_id,name,email,city) values (%s,%s,%s,%s)\"\n",
    "    values =[\n",
    "        (1, 'Amit Sharma', 'amit@example.com', 'Delhi'),\n",
    "        (2, 'Neha Singh', 'neha@example.com', 'Mumbai'),\n",
    "        (3, 'Rahul Verma', 'rahul@example.com', 'Bangalore')\n",
    "    ]\n",
    "    cursor.executemany(query,values)\n",
    "    conn.commit()\n",
    "    print(\"Multiple Customers  added successfully!\")\n",
    "    conn.close()\n",
    "    \n",
    "except mysql.connector.Error as err:\n",
    "    print(\"Error :\",err)\n",
    "    "
   ]
  },
  {
   "cell_type": "markdown",
   "id": "15149097",
   "metadata": {},
   "source": [
    "# Inserting into products table 2"
   ]
  },
  {
   "cell_type": "code",
   "execution_count": 16,
   "id": "f1d53f0d",
   "metadata": {},
   "outputs": [
    {
     "name": "stdout",
     "output_type": "stream",
     "text": [
      " Product inserted successfully!\n"
     ]
    }
   ],
   "source": [
    "try:\n",
    "    conn = mysql.connector.connect(\n",
    "        host=\"localhost\",\n",
    "        user=\"root\",\n",
    "        password=\"dk123456\",\n",
    "        database=\"ecommerce\"\n",
    "    )\n",
    "    cursor = conn.cursor()\n",
    "\n",
    "    query = \"\"\"\n",
    "    INSERT INTO products (product_id, product_name, price, stock)\n",
    "    VALUES (%s, %s, %s, %s)\n",
    "    \"\"\"\n",
    "    values = (201, \"Bluetooth Speaker\", 1499.99, 50)\n",
    "\n",
    "    cursor.execute(query, values)\n",
    "    conn.commit()\n",
    "\n",
    "    print(\" Product inserted successfully!\")\n",
    "    conn.close()\n",
    "\n",
    "except mysql.connector.Error as err:\n",
    "    print(\" Error:\", err)\n"
   ]
  },
  {
   "cell_type": "markdown",
   "id": "545feeb8",
   "metadata": {},
   "source": [
    "# Inserting into ecom_orders table 3"
   ]
  },
  {
   "cell_type": "code",
   "execution_count": 17,
   "id": "c6f3206f",
   "metadata": {},
   "outputs": [
    {
     "name": "stdout",
     "output_type": "stream",
     "text": [
      " Order inserted successfully!\n"
     ]
    }
   ],
   "source": [
    "try:\n",
    "    conn = mysql.connector.connect(\n",
    "        host=\"localhost\",\n",
    "        user=\"root\",\n",
    "        password=\"dk123456\",\n",
    "        database=\"ecommerce\"\n",
    "    )\n",
    "    cursor = conn.cursor()\n",
    "\n",
    "    query = \"\"\"\n",
    "    INSERT INTO ecom_orders (order_id, customer_id, order_date)\n",
    "    VALUES (%s, %s, %s)\n",
    "    \"\"\"\n",
    "    values = (101, 1, '2025-05-20')  \n",
    "\n",
    "    cursor.execute(query, values)\n",
    "    conn.commit()\n",
    "\n",
    "    print(\" Order inserted successfully!\")\n",
    "    conn.close()\n",
    "\n",
    "except mysql.connector.Error as err:\n",
    "    print(\" Error:\", err)\n"
   ]
  },
  {
   "cell_type": "markdown",
   "id": "21c88ce2",
   "metadata": {},
   "source": [
    "# Inserting into order_items table 4"
   ]
  },
  {
   "cell_type": "code",
   "execution_count": 20,
   "id": "63a4e5cd",
   "metadata": {},
   "outputs": [
    {
     "name": "stdout",
     "output_type": "stream",
     "text": [
      " Order items inserted successfully!\n"
     ]
    }
   ],
   "source": [
    "try:\n",
    "    conn = mysql.connector.connect(\n",
    "        host=\"localhost\",\n",
    "        user=\"root\",\n",
    "        password=\"dk123456\",\n",
    "        database=\"ecommerce\"\n",
    "    )\n",
    "    cursor = conn.cursor()\n",
    "\n",
    "    query = \"\"\"\n",
    "    INSERT INTO order_items (order_item_id, order_id, product_id, quantity)\n",
    "    VALUES (%s, %s, %s, %s)\n",
    "    \"\"\"\n",
    "    values = [\n",
    "        (1001, 101, 201, 2),  # order_item_id=1001, order=101, product=201, qty=2\n",
    "        (1002, 101, 202, 1)   # order_item_id=1002, order=101, product=202, qty=1\n",
    "    ]\n",
    "\n",
    "    cursor.executemany(query, values)\n",
    "    conn.commit()\n",
    "\n",
    "    print(\" Order items inserted successfully!\")\n",
    "    conn.close()\n",
    "\n",
    "except mysql.connector.Error as err:\n",
    "    print(\" Error:\", err)\n"
   ]
  },
  {
   "cell_type": "markdown",
   "id": "0ff0fd7b",
   "metadata": {},
   "source": [
    "# Inserting "
   ]
  },
  {
   "cell_type": "code",
   "execution_count": 19,
   "id": "bafa0fd7",
   "metadata": {},
   "outputs": [
    {
     "name": "stdout",
     "output_type": "stream",
     "text": [
      " Product inserted successfully!\n"
     ]
    }
   ],
   "source": [
    "try:\n",
    "    conn = mysql.connector.connect(\n",
    "        host=\"localhost\",\n",
    "        user=\"root\",\n",
    "        password=\"dk123456\",\n",
    "        database=\"ecommerce\"\n",
    "    )\n",
    "    cursor = conn.cursor()\n",
    "\n",
    "    query = \"\"\"\n",
    "    INSERT INTO products (product_id, product_name, price, stock)\n",
    "    VALUES (%s, %s, %s, %s)\n",
    "    \"\"\"\n",
    "    values = (202, \"wireless mouse\", 799.99, 100)\n",
    "\n",
    "    cursor.execute(query, values)\n",
    "    conn.commit()\n",
    "\n",
    "    print(\" Product inserted successfully!\")\n",
    "    conn.close()\n",
    "\n",
    "except mysql.connector.Error as err:\n",
    "    print(\" Error:\", err)\n"
   ]
  },
  {
   "cell_type": "markdown",
   "id": "a0321e48",
   "metadata": {},
   "source": [
    "# Inserting multiple values"
   ]
  },
  {
   "cell_type": "code",
   "execution_count": 21,
   "id": "a7779d42",
   "metadata": {},
   "outputs": [
    {
     "name": "stdout",
     "output_type": "stream",
     "text": [
      "✅ Multiple products inserted successfully!\n"
     ]
    }
   ],
   "source": [
    "import mysql.connector\n",
    "\n",
    "try:\n",
    "    conn = mysql.connector.connect(\n",
    "        host=\"localhost\",\n",
    "        user=\"root\",\n",
    "        password=\"dk123456\",    \n",
    "        database=\"ecommerce\"\n",
    "    )\n",
    "    cursor = conn.cursor()\n",
    "\n",
    "    # Multiple products data\n",
    "    products = [\n",
    "        (203, 'Gaming Keyboard', 2999.99, 40),\n",
    "        (204, 'USB-C Charger', 899.50, 150),\n",
    "        (205, 'HD Webcam', 2499.00, 35),\n",
    "        (206, 'Noise Cancelling Headphones', 5499.75, 20)\n",
    "    ]\n",
    "\n",
    "    query = \"INSERT INTO products (product_id, product_name, price, stock) VALUES (%s, %s, %s, %s)\"\n",
    "\n",
    "    cursor.executemany(query, products)\n",
    "    conn.commit()\n",
    "\n",
    "    print(\"✅ Multiple products inserted successfully!\")\n",
    "\n",
    "    cursor.close()\n",
    "    conn.close()\n",
    "\n",
    "except mysql.connector.Error as err:\n",
    "    print(\"Error:\", err)\n"
   ]
  },
  {
   "cell_type": "markdown",
   "id": "cc216c41",
   "metadata": {},
   "source": [
    "# Inserting multiple values "
   ]
  },
  {
   "cell_type": "code",
   "execution_count": 23,
   "id": "e872307f",
   "metadata": {},
   "outputs": [
    {
     "name": "stdout",
     "output_type": "stream",
     "text": [
      "Multiple orders inserted successfully!\n"
     ]
    }
   ],
   "source": [
    "import mysql.connector\n",
    "\n",
    "try:\n",
    "    conn = mysql.connector.connect(\n",
    "        host=\"localhost\",\n",
    "        user=\"root\",\n",
    "        password=\"dk123456\",    \n",
    "        database=\"ecommerce\"\n",
    "    )\n",
    "    cursor = conn.cursor()\n",
    "\n",
    "    orders = [\n",
    "        (102, 1, '2025-05-20'),  \n",
    "        (103, 2, '2025-05-21'),\n",
    "        (104, 3, '2025-05-22')\n",
    "    ]\n",
    "\n",
    "    query = \"INSERT INTO ecom_orders (order_id, customer_id, order_date) VALUES (%s, %s, %s)\"\n",
    "    cursor.executemany(query, orders)\n",
    "    conn.commit()\n",
    "\n",
    "    print(\"Multiple orders inserted successfully!\")\n",
    "\n",
    "    cursor.close()\n",
    "    conn.close()\n",
    "\n",
    "except mysql.connector.Error as err:\n",
    "    print(\"Error:\", err)\n"
   ]
  },
  {
   "cell_type": "markdown",
   "id": "930c5748",
   "metadata": {},
   "source": [
    "#inserting multiple values "
   ]
  },
  {
   "cell_type": "code",
   "execution_count": 25,
   "id": "ad0a7514",
   "metadata": {},
   "outputs": [
    {
     "name": "stdout",
     "output_type": "stream",
     "text": [
      " Multiple order items inserted successfully!\n"
     ]
    }
   ],
   "source": [
    "import mysql.connector\n",
    "\n",
    "try:\n",
    "    conn = mysql.connector.connect(\n",
    "        host=\"localhost\",\n",
    "        user=\"root\",\n",
    "        password=\"\",    \n",
    "        database=\"ecommerce\"\n",
    "    )\n",
    "    cursor = conn.cursor()\n",
    "\n",
    "    # Order items data - ensure order_id and product_id exist in parent tables\n",
    "    order_items = [\n",
    "        (1003, 102, 203, 1), \n",
    "        (1004, 102, 204, 2),\n",
    "        (1005, 103, 205, 1),\n",
    "        (1006, 104, 201, 3)\n",
    "    ]\n",
    "\n",
    "    query = \"INSERT INTO order_items (order_item_id, order_id, product_id, quantity) VALUES (%s, %s, %s, %s)\"\n",
    "    cursor.executemany(query, order_items)\n",
    "    conn.commit()\n",
    "\n",
    "    print(\" Multiple order items inserted successfully!\")\n",
    "\n",
    "    cursor.close()\n",
    "    conn.close()\n",
    "\n",
    "except mysql.connector.Error as err:\n",
    "    print(\"Error:\", err)\n"
   ]
  },
  {
   "cell_type": "markdown",
   "id": "e29efbd7",
   "metadata": {},
   "source": [
    "# Fetching data from table 1"
   ]
  },
  {
   "cell_type": "code",
   "execution_count": 31,
   "id": "9a8a18bc",
   "metadata": {},
   "outputs": [
    {
     "name": "stdout",
     "output_type": "stream",
     "text": [
      "(1, 'Amit Sharma', 'amit@example.com', 'Delhi')\n",
      "(2, 'Neha Singh', 'neha@example.com', 'Mumbai')\n",
      "(3, 'Rahul Verma', 'rahul@example.com', 'Bangalore')\n",
      "(101, 'Ravi Kumar', 'ravi@example.com', 'Delhi')\n"
     ]
    }
   ],
   "source": [
    "import mysql.connector;\n",
    "\n",
    "try:\n",
    "    conn = mysql.connector.connect(\n",
    "    host=\"localhost\",\n",
    "    user=\"root\",\n",
    "    password=\"dk123456\",\n",
    "    database=\"ecommerce\"\n",
    "    )\n",
    "    \n",
    "    cursor = conn.cursor()\n",
    "    query = \"Select * from ecom_customer\"\n",
    "    cursor.execute(query)\n",
    "    results = cursor.fetchall()\n",
    "    \n",
    "    for row in results:\n",
    "        print(row)\n",
    "    \n",
    "    cursor.close()\n",
    "    conn.close()\n",
    "    \n",
    "except mysql.connector.Error as err:\n",
    "    print(\"Error :\",err)"
   ]
  },
  {
   "cell_type": "markdown",
   "id": "0b0b590a",
   "metadata": {},
   "source": [
    "# Fetching data from table 2 products"
   ]
  },
  {
   "cell_type": "code",
   "execution_count": 32,
   "id": "2a0c79bf",
   "metadata": {},
   "outputs": [
    {
     "name": "stdout",
     "output_type": "stream",
     "text": [
      "(201, 'Bluetooth Speaker', Decimal('1499.99'), 50)\n",
      "(202, 'wireless mouse', Decimal('799.99'), 100)\n",
      "(203, 'Gaming Keyboard', Decimal('2999.99'), 40)\n",
      "(204, 'USB-C Charger', Decimal('899.50'), 150)\n",
      "(205, 'HD Webcam', Decimal('2499.00'), 35)\n",
      "(206, 'Noise Cancelling Headphones', Decimal('5499.75'), 20)\n"
     ]
    }
   ],
   "source": [
    "import mysql.connector;\n",
    "\n",
    "try:\n",
    "    conn = mysql.connector.connect(\n",
    "    host=\"localhost\",\n",
    "    user=\"root\",\n",
    "    password=\"dk123456\",\n",
    "    database=\"ecommerce\"\n",
    "    )\n",
    "    \n",
    "    cursor = conn.cursor()\n",
    "    query = \"Select * from products\"\n",
    "    cursor.execute(query)\n",
    "    results = cursor.fetchall()\n",
    "    \n",
    "    for row in results:\n",
    "        print(row)\n",
    "    \n",
    "    cursor.close()\n",
    "    conn.close()\n",
    "    \n",
    "except mysql.connector.Error as err:\n",
    "    print(\"Error :\",err)"
   ]
  },
  {
   "cell_type": "markdown",
   "id": "9f9c5286",
   "metadata": {},
   "source": [
    "# Fetching data from table 3"
   ]
  },
  {
   "cell_type": "code",
   "execution_count": 33,
   "id": "a7bb0b74",
   "metadata": {},
   "outputs": [
    {
     "name": "stdout",
     "output_type": "stream",
     "text": [
      "(101, 1, datetime.date(2025, 5, 20))\n",
      "(102, 1, datetime.date(2025, 5, 20))\n",
      "(103, 2, datetime.date(2025, 5, 21))\n",
      "(104, 3, datetime.date(2025, 5, 22))\n"
     ]
    }
   ],
   "source": [
    "import mysql.connector;\n",
    "\n",
    "try:\n",
    "    conn = mysql.connector.connect(\n",
    "    host=\"localhost\",\n",
    "    user=\"root\",\n",
    "    password=\"dk123456\",\n",
    "    database=\"ecommerce\"\n",
    "    )\n",
    "    \n",
    "    cursor = conn.cursor()\n",
    "    query = \"Select * from ecom_orders\"\n",
    "    cursor.execute(query)\n",
    "    results = cursor.fetchall()\n",
    "    \n",
    "    for row in results:\n",
    "        print(row)\n",
    "    \n",
    "    cursor.close()\n",
    "    conn.close()\n",
    "    \n",
    "except mysql.connector.Error as err:\n",
    "    print(\"Error :\",err)"
   ]
  },
  {
   "cell_type": "markdown",
   "id": "8ebd5003",
   "metadata": {},
   "source": [
    "# Fetching data from table 4"
   ]
  },
  {
   "cell_type": "code",
   "execution_count": 34,
   "id": "a7839641",
   "metadata": {},
   "outputs": [
    {
     "name": "stdout",
     "output_type": "stream",
     "text": [
      "(1001, 101, 201, 2)\n",
      "(1002, 101, 202, 1)\n",
      "(1003, 102, 203, 1)\n",
      "(1004, 102, 204, 2)\n",
      "(1005, 103, 205, 1)\n",
      "(1006, 104, 201, 3)\n"
     ]
    }
   ],
   "source": [
    "import mysql.connector;\n",
    "\n",
    "try:\n",
    "    conn = mysql.connector.connect(\n",
    "    host=\"localhost\",\n",
    "    user=\"root\",\n",
    "    password=\"dk123456\",\n",
    "    database=\"ecommerce\"\n",
    "    )\n",
    "    \n",
    "    cursor = conn.cursor()\n",
    "    query = \"Select * from order_items\"\n",
    "    cursor.execute(query)\n",
    "    results = cursor.fetchall()\n",
    "    \n",
    "    for row in results:\n",
    "        print(row)\n",
    "    \n",
    "    cursor.close()\n",
    "    conn.close()\n",
    "    \n",
    "except mysql.connector.Error as err:\n",
    "    print(\"Error :\",err)"
   ]
  },
  {
   "cell_type": "markdown",
   "id": "884bbfe8",
   "metadata": {},
   "source": [
    "# Fetching data from every table "
   ]
  },
  {
   "cell_type": "code",
   "execution_count": 36,
   "id": "67af8277",
   "metadata": {},
   "outputs": [
    {
     "name": "stdout",
     "output_type": "stream",
     "text": [
      "--- Data from ecom_customer ---\n",
      "(1, 'Amit Sharma', 'amit@example.com', 'Delhi')\n",
      "(2, 'Neha Singh', 'neha@example.com', 'Mumbai')\n",
      "(3, 'Rahul Verma', 'rahul@example.com', 'Bangalore')\n",
      "(101, 'Ravi Kumar', 'ravi@example.com', 'Delhi')\n",
      "\n",
      "\n",
      "--- Data from products ---\n",
      "(201, 'Bluetooth Speaker', Decimal('1499.99'), 50)\n",
      "(202, 'wireless mouse', Decimal('799.99'), 100)\n",
      "(203, 'Gaming Keyboard', Decimal('2999.99'), 40)\n",
      "(204, 'USB-C Charger', Decimal('899.50'), 150)\n",
      "(205, 'HD Webcam', Decimal('2499.00'), 35)\n",
      "(206, 'Noise Cancelling Headphones', Decimal('5499.75'), 20)\n",
      "\n",
      "\n",
      "--- Data from ecom_orders ---\n",
      "(101, 1, datetime.date(2025, 5, 20))\n",
      "(102, 1, datetime.date(2025, 5, 20))\n",
      "(103, 2, datetime.date(2025, 5, 21))\n",
      "(104, 3, datetime.date(2025, 5, 22))\n",
      "\n",
      "\n",
      "--- Data from order_items ---\n",
      "(1001, 101, 201, 2)\n",
      "(1002, 101, 202, 1)\n",
      "(1003, 102, 203, 1)\n",
      "(1004, 102, 204, 2)\n",
      "(1005, 103, 205, 1)\n",
      "(1006, 104, 201, 3)\n",
      "\n",
      "\n"
     ]
    }
   ],
   "source": [
    "import mysql.connector\n",
    "\n",
    "try:\n",
    "    conn = mysql.connector.connect(\n",
    "        host=\"localhost\",\n",
    "        user=\"root\",\n",
    "        password=\"dk123456\",   # apna password daalo\n",
    "        database=\"ecommerce\"\n",
    "    )\n",
    "    cursor = conn.cursor()\n",
    "\n",
    "    tables = ['ecom_customer', 'products', 'ecom_orders', 'order_items']\n",
    "\n",
    "    for table in tables:\n",
    "        print(f\"--- Data from {table} ---\")\n",
    "        cursor.execute(f\"SELECT * FROM {table}\")\n",
    "        rows = cursor.fetchall()\n",
    "        for row in rows:\n",
    "            print(row)\n",
    "        print(\"\\n\")\n",
    "\n",
    "    cursor.close()\n",
    "    conn.close()\n",
    "\n",
    "except mysql.connector.Error as err:\n",
    "    print(\"Error:\", err)\n"
   ]
  },
  {
   "cell_type": "code",
   "execution_count": 42,
   "id": "9b9c2b4f",
   "metadata": {},
   "outputs": [
    {
     "name": "stdout",
     "output_type": "stream",
     "text": [
      "(1, 'Amit Sharma', 'amit@example.com', 'Delhi')\n",
      "(2, 'Neha Singh', 'neha@example.com', 'Mumbai')\n",
      " Error: Unread result found\n"
     ]
    }
   ],
   "source": [
    "import mysql.connector\n",
    "\n",
    "try:\n",
    "    # MySQL connection\n",
    "    conn = mysql.connector.connect(\n",
    "        host=\"localhost\",\n",
    "        user=\"root\",\n",
    "        password=\"dk123456\",           \n",
    "        database=\"ecommerce\"          \n",
    "    )\n",
    "    cursor = conn.cursor()\n",
    "   \n",
    "    cursor.execute(\"SELECT * FROM ecom_customer\")\n",
    "    rows = cursor.fetchmany(2)  #  2 rows\n",
    "    for row in rows:\n",
    "        print(row)\n",
    "\n",
    "    cursor.close()\n",
    "    conn.close()\n",
    "    print(\"\\n Fetched 2 rows from  table successfully!\")\n",
    "\n",
    "except mysql.connector.Error as err:\n",
    "    print(\" Error:\", err)\n"
   ]
  },
  {
   "cell_type": "code",
   "execution_count": 43,
   "id": "1c67fbc1",
   "metadata": {},
   "outputs": [
    {
     "name": "stdout",
     "output_type": "stream",
     "text": [
      "3.13.3 (tags/v3.13.3:6280bb5, Apr  8 2025, 14:47:33) [MSC v.1943 64 bit (AMD64)]\n"
     ]
    }
   ],
   "source": [
    "import sys\n",
    "print(sys.version)"
   ]
  },
  {
   "cell_type": "markdown",
   "id": "807e0e6c",
   "metadata": {},
   "source": [
    "## CRUD Menu for product table "
   ]
  },
  {
   "cell_type": "code",
   "execution_count": 44,
   "id": "d98646dc",
   "metadata": {},
   "outputs": [],
   "source": [
    "import mysql.connector;\n"
   ]
  },
  {
   "cell_type": "code",
   "execution_count": null,
   "id": "c5313e83",
   "metadata": {},
   "outputs": [],
   "source": []
  },
  {
   "cell_type": "code",
   "execution_count": null,
   "id": "75dd5f19",
   "metadata": {},
   "outputs": [
    {
     "data": {
      "text/html": [
       "<pre style=\"white-space:pre;overflow-x:auto;line-height:normal;font-family:Menlo,'DejaVu Sans Mono',consolas,'Courier New',monospace\">\n",
       "<span style=\"color: #008080; text-decoration-color: #008080; font-weight: bold\">===========================</span>\n",
       "\n",
       "</pre>\n"
      ],
      "text/plain": [
       "\n",
       "\u001b[1;36m===========================\u001b[0m\n",
       "\n"
      ]
     },
     "metadata": {},
     "output_type": "display_data"
    },
    {
     "data": {
      "text/html": [
       "<pre style=\"white-space:pre;overflow-x:auto;line-height:normal;font-family:Menlo,'DejaVu Sans Mono',consolas,'Courier New',monospace\"><span style=\"color: #800000; text-decoration-color: #800000; font-weight: bold\">CRUD Menu for Product table</span>\n",
       "\n",
       "</pre>\n"
      ],
      "text/plain": [
       "\u001b[1;31mCRUD Menu for Product table\u001b[0m\n",
       "\n"
      ]
     },
     "metadata": {},
     "output_type": "display_data"
    },
    {
     "data": {
      "text/html": [
       "<pre style=\"white-space:pre;overflow-x:auto;line-height:normal;font-family:Menlo,'DejaVu Sans Mono',consolas,'Courier New',monospace\"><span style=\"color: #008080; text-decoration-color: #008080; font-weight: bold\">============================</span>\n",
       "\n",
       "</pre>\n"
      ],
      "text/plain": [
       "\u001b[1;36m============================\u001b[0m\n",
       "\n"
      ]
     },
     "metadata": {},
     "output_type": "display_data"
    },
    {
     "name": "stdout",
     "output_type": "stream",
     "text": [
      "\n",
      "=======================\n",
      "\n",
      "Product Management Menu\n",
      "\n",
      "=======================\n",
      "\n",
      "\n",
      "1.Insert values in products table\n",
      " \n",
      "2.View value in products\n",
      "\n",
      "3.update value in products\n",
      "\n",
      "4.delete value from products\n",
      "\n",
      "5.Exit\n",
      "\n"
     ]
    }
   ],
   "source": [
    "from rich.console import Console\n",
    "\n",
    "console = Console()\n",
    "console.print(\"\\n===========================\\n\", style=\"cyan bold\")\n",
    "console.print(\"CRUD Menu for Product table\\n\", style=\"red bold\")\n",
    "console.print(\"============================\\n\", style=\"cyan bold\")\n",
    "\n",
    "\n",
    "\n",
    "\n",
    "def make_conn_mysql():\n",
    "    return mysql.connector.connect(\n",
    "    host=\"localhost\",\n",
    "    user=\"root\",\n",
    "    password=\"dk123456\",\n",
    "    database=\"ecommerce\"\n",
    "    )\n",
    "\n",
    "def insert_product(product_id,product_name,price,stock):\n",
    "    try:\n",
    "        conn = make_conn_mysql()\n",
    "        cursor = conn.cursor()\n",
    "        query = \"INSERT INTO products(product_id,product_name,price,stock) value(%s,%s,%s,%s)\"\n",
    "        values=(product_id,product_name,price,stock)\n",
    "        \n",
    "        cusor.execute(query,data)\n",
    "        conn.commit()\n",
    "        \n",
    "        print(\"Succesfully entered data\\n\")\n",
    "        \n",
    "    except mysql.connector.Error as err:\n",
    "        print(\"Error :\",err)\n",
    "    \n",
    "    finally:\n",
    "        cursor.close()\n",
    "        conn.close()\n",
    "        \n",
    "def read_products():\n",
    "    try:\n",
    "        conn = make_conn_mysql()\n",
    "        cursor = conn.cursor()\n",
    "        query = \"select * from products\"\n",
    "        cursor.execute(query)\n",
    "        results = cursor.fetchall()\n",
    "        \n",
    "        for row in results:\n",
    "            print(row)\n",
    "            \n",
    "    except mysql.connector.Error as err:\n",
    "        print(\"Error :\",err)\n",
    "        \n",
    "    finally:\n",
    "        cursor.close()\n",
    "        conn.close()\n",
    "        \n",
    "def update_product_price(product_id,new_price):\n",
    "    try:\n",
    "        conn = make_conn_mysql()\n",
    "        cursor = conn.cursor()\n",
    "        query = \"Update products SET price = %s where product_id = %s\"\n",
    "        values(new_price,product_id)\n",
    "        \n",
    "        cursor.execute(query,values)\n",
    "        conn.commit()\n",
    "        \n",
    "    except  mysql.connector.Error as err:\n",
    "        print(\"Error :\",err)\n",
    "    \n",
    "    finally:\n",
    "        cursor.close()\n",
    "        conn.close()\n",
    "        \n",
    "        \n",
    "def delete_products(product_id):\n",
    "    try:\n",
    "        conn = make_conn_mysql()\n",
    "        cursor = conn.cursor()\n",
    "        \n",
    "        query = \"DELETE from products where product_id = %s\"\n",
    "        value = (product_id)\n",
    "        \n",
    "        cursor.execute(query,value)\n",
    "        conn.commit()\n",
    "        \n",
    "    except  mysql.connector.Error as err:\n",
    "        print(\"Error :\",err)\n",
    "    \n",
    "    finally:\n",
    "        cursor.close()\n",
    "        conn.close()\n",
    "        \n",
    "        \n",
    "def menu():\n",
    "    while True:\n",
    "        \n",
    "        print(\"\\n=======================\\n\")\n",
    "        print(\"Product Management Menu\\n\")\n",
    "        print(\"=======================\\n\\n\")\n",
    "        print(\"1.Insert values in products table\\n \")\n",
    "        print(\"2.View value in products\\n\")\n",
    "        print(\"3.update value in products\\n\")\n",
    "        print(\"4.delete value from products\\n\")\n",
    "        print(\"5.Exit\\n\")\n",
    "        \n",
    "        \n",
    "        choice = input(\"Enter choice 1-5 \\n\")\n",
    "        \n",
    "        if choice == '1':\n",
    "            pid = int(input(\"Enter product ID\\n\"))\n",
    "            name = input(\"Enter name\\n\")\n",
    "            price = float(input(\"Enter price \\n\"))\n",
    "            stock = int(input(\"Enter stock\\n\"))\n",
    "            insert_product(pid,name,price,stock)\n",
    "            \n",
    "        elif choice == '2':\n",
    "            read_products()\n",
    "            \n",
    "        elif choice == '3':\n",
    "            pid = int(input(\"Enter product ID for which price is to be updated\\n\"))\n",
    "            price = float(input(\"Enter price to be updated \\n\"))\n",
    "            update_product_price(pid,price)\n",
    "        \n",
    "        elif choice == '4':\n",
    "            pid = int(input(\"Enter Product ID to delete: \"))\n",
    "            delete_products(pid)\n",
    "        \n",
    "        elif choice == '5':\n",
    "            print(\"Existing \\n\")\n",
    "            break\n",
    "            \n",
    "        else:\n",
    "            print(\"Invalid choice\\n\")\n",
    "            \n",
    "menu()"
   ]
  },
  {
   "cell_type": "code",
   "execution_count": null,
   "id": "ca7671c1",
   "metadata": {},
   "outputs": [],
   "source": []
  }
 ],
 "metadata": {
  "kernelspec": {
   "display_name": "Python 3.12",
   "language": "python",
   "name": "python312"
  },
  "language_info": {
   "codemirror_mode": {
    "name": "ipython",
    "version": 3
   },
   "file_extension": ".py",
   "mimetype": "text/x-python",
   "name": "python",
   "nbconvert_exporter": "python",
   "pygments_lexer": "ipython3",
   "version": "3.13.3"
  }
 },
 "nbformat": 4,
 "nbformat_minor": 5
}
